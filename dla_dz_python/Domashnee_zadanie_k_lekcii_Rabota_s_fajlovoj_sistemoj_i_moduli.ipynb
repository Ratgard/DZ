{
 "cells": [
  {
   "cell_type": "code",
   "execution_count": 7,
   "metadata": {},
   "outputs": [],
   "source": [
    "#Домашнее задание к лекции Работа с файловой системой и модули\n",
    "#Задание 1 \n",
    "\n",
    "f = open('purchase_log.txt', 'r', encoding='utf-8')\n",
    "import json\n",
    "next(f)\n",
    "purchases = {}\n",
    "for string in f:\n",
    "    dict_ = json.loads(string)\n",
    "    purchases[dict_['user_id']] = dict_['category']\n",
    "\n",
    "\n",
    "f.close()\n",
    "\n",
    "##Задание 2\n",
    "funnel = open('visit_log.csv', 'w')\n",
    "visit_log_open = open('visit_log.csv')\n",
    "for i in visit_log_open:\n",
    "    d = i.strip().split(',')\n",
    "    if d[0] in purchases.keys():\n",
    "        d.append(purchases[key])\n",
    "        d_str = str(d)\n",
    "        funnel.write(d_str + '\\n')\n",
    "funnel.close()"
   ]
  }
 ],
 "metadata": {
  "kernelspec": {
   "display_name": "Python 3",
   "language": "python",
   "name": "python3"
  },
  "language_info": {
   "codemirror_mode": {
    "name": "ipython",
    "version": 3
   },
   "file_extension": ".py",
   "mimetype": "text/x-python",
   "name": "python",
   "nbconvert_exporter": "python",
   "pygments_lexer": "ipython3",
   "version": "3.7.4"
  }
 },
 "nbformat": 4,
 "nbformat_minor": 2
}
