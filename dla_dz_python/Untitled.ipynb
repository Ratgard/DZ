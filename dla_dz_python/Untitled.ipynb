{
 "cells": [
  {
   "cell_type": "code",
   "execution_count": null,
   "metadata": {
    "scrolled": true
   },
   "outputs": [],
   "source": [
    "f = open('purchase_log.txt', 'r', encoding='utf-8')\n",
    "import json\n",
    "\n",
    "purchases = {}\n",
    "for string in f:\n",
    "    dict_ = json.loads(string)\n",
    "    #print(dict_)\n",
    "    purchases[dict_['user_id']] = dict_['category']\n",
    "\n",
    "\n",
    "f.close()\n",
    "\n",
    "visit_log_open = open('visit_log.csv', 'r')\n",
    "a = 0\n",
    "for i in visit_log_open:\n",
    "    d = i.strip().split(',')\n",
    "    for string_2 in purchases.keys(), if string_2 == d:\n",
    "        if string_2 == d:\n",
    "            print(d)\n",
    "            print(string_2)\n",
    "            break\n",
    "    #print(d)\n",
    "            #a += 1\n",
    "            #if a > 5:\n",
    "                #break\n",
    "#type(d)"
   ]
  },
  {
   "cell_type": "code",
   "execution_count": 6,
   "metadata": {},
   "outputs": [
    {
     "name": "stdout",
     "output_type": "stream",
     "text": [
      "user_id category\n",
      "1840e0b9d4 Продукты\n",
      "4e4f90fcfb Электроника\n",
      "afea8d72fc Электроника\n",
      "373a6055fe Бытовая техника\n",
      "9b2ab046f3 Электроника\n"
     ]
    }
   ],
   "source": [
    "l=0\n",
    "for i,s in purchases.items():\n",
    "    print(i,s)\n",
    "    l += 1\n",
    "    if l >5:\n",
    "        break"
   ]
  },
  {
   "cell_type": "code",
   "execution_count": 2,
   "metadata": {},
   "outputs": [
    {
     "ename": "NameError",
     "evalue": "name 'purchases' is not defined",
     "output_type": "error",
     "traceback": [
      "\u001b[1;31m---------------------------------------------------------------------------\u001b[0m",
      "\u001b[1;31mNameError\u001b[0m                                 Traceback (most recent call last)",
      "\u001b[1;32m<ipython-input-2-38a60051f52e>\u001b[0m in \u001b[0;36m<module>\u001b[1;34m\u001b[0m\n\u001b[0;32m      6\u001b[0m \u001b[1;32mfor\u001b[0m \u001b[0mi\u001b[0m \u001b[1;32min\u001b[0m \u001b[0mvisit_log_open\u001b[0m\u001b[1;33m:\u001b[0m\u001b[1;33m\u001b[0m\u001b[1;33m\u001b[0m\u001b[0m\n\u001b[0;32m      7\u001b[0m     \u001b[0md\u001b[0m \u001b[1;33m=\u001b[0m \u001b[0mi\u001b[0m\u001b[1;33m.\u001b[0m\u001b[0mstrip\u001b[0m\u001b[1;33m(\u001b[0m\u001b[1;33m)\u001b[0m\u001b[1;33m.\u001b[0m\u001b[0msplit\u001b[0m\u001b[1;33m(\u001b[0m\u001b[1;34m','\u001b[0m\u001b[1;33m)\u001b[0m\u001b[1;33m\u001b[0m\u001b[1;33m\u001b[0m\u001b[0m\n\u001b[1;32m----> 8\u001b[1;33m     \u001b[1;32mfor\u001b[0m \u001b[0mid_\u001b[0m \u001b[1;32min\u001b[0m \u001b[0mpurchases\u001b[0m\u001b[1;33m.\u001b[0m\u001b[0mkeys\u001b[0m\u001b[1;33m(\u001b[0m\u001b[1;33m)\u001b[0m\u001b[1;33m:\u001b[0m\u001b[1;33m\u001b[0m\u001b[1;33m\u001b[0m\u001b[0m\n\u001b[0m\u001b[0;32m      9\u001b[0m         \u001b[1;32mif\u001b[0m \u001b[0md\u001b[0m\u001b[1;33m[\u001b[0m\u001b[1;36m0\u001b[0m\u001b[1;33m]\u001b[0m \u001b[1;33m==\u001b[0m \u001b[0mid_\u001b[0m\u001b[1;33m:\u001b[0m\u001b[1;33m\u001b[0m\u001b[1;33m\u001b[0m\u001b[0m\n\u001b[0;32m     10\u001b[0m             \u001b[0masd\u001b[0m \u001b[1;33m=\u001b[0m \u001b[1;33m[\u001b[0m\u001b[0md\u001b[0m\u001b[1;33m]\u001b[0m\u001b[1;33m\u001b[0m\u001b[1;33m\u001b[0m\u001b[0m\n",
      "\u001b[1;31mNameError\u001b[0m: name 'purchases' is not defined"
     ]
    }
   ],
   "source": [
    "#1открыть ыторой файл построчно написать сделать проверку 2х списков и при совпадении переписать все данные в новый файл\n",
    "\n",
    "visit_log_open = open('visit_log.csv', 'r')\n",
    "a = 0\n",
    "asd = []\n",
    "for i in visit_log_open:\n",
    "    d = i.strip().split(',')\n",
    "    for id_ in purchases.keys():\n",
    "        if d[0] == id_:\n",
    "            asd = [d]\n",
    "            \n",
    "    print(d)\n",
    "    a += 1\n",
    "    if a > 5:\n",
    "        break\n",
    "type(d)"
   ]
  },
  {
   "cell_type": "code",
   "execution_count": 10,
   "metadata": {},
   "outputs": [
    {
     "ename": "TypeError",
     "evalue": "write() takes exactly one argument (2 given)",
     "output_type": "error",
     "traceback": [
      "\u001b[1;31m---------------------------------------------------------------------------\u001b[0m",
      "\u001b[1;31mTypeError\u001b[0m                                 Traceback (most recent call last)",
      "\u001b[1;32m<ipython-input-10-373b1df05cbf>\u001b[0m in \u001b[0;36m<module>\u001b[1;34m\u001b[0m\n\u001b[0;32m     20\u001b[0m     \u001b[0md\u001b[0m \u001b[1;33m=\u001b[0m \u001b[0mi\u001b[0m\u001b[1;33m.\u001b[0m\u001b[0mstrip\u001b[0m\u001b[1;33m(\u001b[0m\u001b[1;33m)\u001b[0m\u001b[1;33m.\u001b[0m\u001b[0msplit\u001b[0m\u001b[1;33m(\u001b[0m\u001b[1;34m','\u001b[0m\u001b[1;33m)\u001b[0m\u001b[1;33m\u001b[0m\u001b[1;33m\u001b[0m\u001b[0m\n\u001b[0;32m     21\u001b[0m     \u001b[1;32mfor\u001b[0m \u001b[0mkey\u001b[0m \u001b[1;32min\u001b[0m \u001b[0mpurchases\u001b[0m\u001b[1;33m.\u001b[0m\u001b[0mkeys\u001b[0m\u001b[1;33m(\u001b[0m\u001b[1;33m)\u001b[0m\u001b[1;33m:\u001b[0m\u001b[1;33m\u001b[0m\u001b[1;33m\u001b[0m\u001b[0m\n\u001b[1;32m---> 22\u001b[1;33m         \u001b[0masd\u001b[0m\u001b[1;33m(\u001b[0m\u001b[0mkey\u001b[0m\u001b[1;33m)\u001b[0m\u001b[1;33m\u001b[0m\u001b[1;33m\u001b[0m\u001b[0m\n\u001b[0m\u001b[0;32m     23\u001b[0m \u001b[1;33m\u001b[0m\u001b[0m\n\u001b[0;32m     24\u001b[0m \u001b[1;33m\u001b[0m\u001b[0m\n",
      "\u001b[1;32m<ipython-input-10-373b1df05cbf>\u001b[0m in \u001b[0;36masd\u001b[1;34m(x)\u001b[0m\n\u001b[0;32m     14\u001b[0m         \u001b[0md\u001b[0m\u001b[1;33m.\u001b[0m\u001b[0mappend\u001b[0m\u001b[1;33m(\u001b[0m\u001b[0mpurchases\u001b[0m\u001b[1;33m[\u001b[0m\u001b[0mkey\u001b[0m\u001b[1;33m]\u001b[0m\u001b[1;33m)\u001b[0m\u001b[1;33m\u001b[0m\u001b[1;33m\u001b[0m\u001b[0m\n\u001b[0;32m     15\u001b[0m         \u001b[0md_str\u001b[0m \u001b[1;33m=\u001b[0m \u001b[0mstr\u001b[0m\u001b[1;33m(\u001b[0m\u001b[0md\u001b[0m\u001b[1;33m)\u001b[0m\u001b[1;33m\u001b[0m\u001b[1;33m\u001b[0m\u001b[0m\n\u001b[1;32m---> 16\u001b[1;33m         \u001b[0mfunnel\u001b[0m\u001b[1;33m.\u001b[0m\u001b[0mwrite\u001b[0m\u001b[1;33m(\u001b[0m\u001b[0md_str\u001b[0m\u001b[1;33m,\u001b[0m \u001b[1;34m'\\n'\u001b[0m\u001b[1;33m)\u001b[0m\u001b[1;33m\u001b[0m\u001b[1;33m\u001b[0m\u001b[0m\n\u001b[0m\u001b[0;32m     17\u001b[0m \u001b[1;33m\u001b[0m\u001b[0m\n\u001b[0;32m     18\u001b[0m \u001b[0mvisit_log_open\u001b[0m \u001b[1;33m=\u001b[0m \u001b[0mopen\u001b[0m\u001b[1;33m(\u001b[0m\u001b[1;34m'visit_log.csv'\u001b[0m\u001b[1;33m)\u001b[0m\u001b[1;33m\u001b[0m\u001b[1;33m\u001b[0m\u001b[0m\n",
      "\u001b[1;31mTypeError\u001b[0m: write() takes exactly one argument (2 given)"
     ]
    }
   ],
   "source": [
    "f = open('purchase_log.txt', 'r', encoding='utf-8')\n",
    "import json\n",
    "\n",
    "purchases = {}\n",
    "for string in f:\n",
    "    dict_ = json.loads(string)\n",
    "    purchases[dict_['user_id']] = dict_['category']\n",
    "f.close()\n",
    "\n",
    "funnel = open('funnel.csv', 'w')\n",
    "\n",
    "def asd (x):\n",
    "    if x == d[0]:\n",
    "        d.append(purchases[key])\n",
    "        d_str = str(d)\n",
    "        funnel.write(d_str, '\\n')\n",
    "\n",
    "visit_log_open = open('visit_log.csv')\n",
    "for i in visit_log_open:\n",
    "    d = i.strip().split(',')\n",
    "    for key in purchases.keys():\n",
    "        asd(key)\n",
    "\n",
    "\n",
    "\n",
    "funnelclose()"
   ]
  },
  {
   "cell_type": "code",
   "execution_count": null,
   "metadata": {},
   "outputs": [],
   "source": [
    "f = open('purchase_log.txt', 'r', encoding='utf-8')\n",
    "import json\n",
    "purchases = {}\n",
    "for string in f:\n",
    "    dict_ = json.loads(string)\n",
    "    purchases[dict_['user_id']] = dict_['category']\n",
    "f.close()\n",
    "\n",
    "visit_log_open = open('visit_log.csv')\n",
    "for i in visit_log_open: #берет строку из файла visit_log_open\n",
    "    d = i.strip().split(',') #преобразовывает строку в список\n",
    "    for key in purchases.keys(): #берет ключ\n",
    "        if key == d[0]: #проверка user id из 1го и 2го файла\n",
    "            d.append(purchases[key]) #если совпадают то записывает значение соотв. ключу в перемен. d\n",
    "            \n",
    "funnel = open('funnel.csv')\n",
    "funnel.write(d)\n",
    "funnelclose()"
   ]
  },
  {
   "cell_type": "code",
   "execution_count": 23,
   "metadata": {},
   "outputs": [],
   "source": [
    "f = open('purchase_log.txt', 'r', encoding='utf-8')\n",
    "import json\n",
    "purchases = {}\n",
    "for string in f:\n",
    "    dict_ = json.loads(string)\n",
    "    purchases[dict_['user_id']] = dict_['category']\n",
    "f.close()\n",
    "\n",
    "funnel = open('funnel.csv', 'w')\n",
    "visit_log_open = open('visit_log.csv')\n",
    "for i in visit_log_open: #берет строку из файла visit_log_open\n",
    "    d = i.strip().split(',') #преобразовывает строку в список\n",
    "    if d[0] in purchases.keys():\n",
    "        d.append(purchases[key])\n",
    "        d_str = str(d)\n",
    "        funnel.write(d_str + '\\n')\n",
    "funnel.close()"
   ]
  }
 ],
 "metadata": {
  "kernelspec": {
   "display_name": "Python 3",
   "language": "python",
   "name": "python3"
  },
  "language_info": {
   "codemirror_mode": {
    "name": "ipython",
    "version": 3
   },
   "file_extension": ".py",
   "mimetype": "text/x-python",
   "name": "python",
   "nbconvert_exporter": "python",
   "pygments_lexer": "ipython3",
   "version": "3.7.4"
  }
 },
 "nbformat": 4,
 "nbformat_minor": 2
}
