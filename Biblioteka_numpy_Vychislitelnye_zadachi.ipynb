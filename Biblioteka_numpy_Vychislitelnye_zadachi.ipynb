{
 "cells": [
  {
   "cell_type": "markdown",
   "metadata": {},
   "source": [
    "Задание 1\n",
    "Создайте numpy array с элементами от числа N до 0 (например, для N = 10 это будет array([9, 8, 7, 6, 5, 4, 3, 2, 1, 0]))."
   ]
  },
  {
   "cell_type": "code",
   "execution_count": 72,
   "metadata": {
    "scrolled": true
   },
   "outputs": [],
   "source": [
    "import numpy as np"
   ]
  },
  {
   "cell_type": "code",
   "execution_count": 68,
   "metadata": {
    "scrolled": false
   },
   "outputs": [
    {
     "name": "stdout",
     "output_type": "stream",
     "text": [
      "Введите число\n",
      "10\n",
      "[9 8 7 6 5 4 3 2 1 0]\n"
     ]
    }
   ],
   "source": [
    "x = int(input('Введите число\\n'))\n",
    "a = np.arange(0, x)\n",
    "text = a[::-1]\n",
    "print(text)"
   ]
  },
  {
   "cell_type": "markdown",
   "metadata": {},
   "source": [
    "Задание 2 Создайте диагональную матрицу с элементами от N до 0. Посчитайте сумму ее значений на диагонали."
   ]
  },
  {
   "cell_type": "code",
   "execution_count": 66,
   "metadata": {
    "scrolled": true
   },
   "outputs": [
    {
     "name": "stdout",
     "output_type": "stream",
     "text": [
      "Введите число: 10\n",
      "[[9 0 0 0 0 0 0 0 0 0]\n",
      " [0 8 0 0 0 0 0 0 0 0]\n",
      " [0 0 7 0 0 0 0 0 0 0]\n",
      " [0 0 0 6 0 0 0 0 0 0]\n",
      " [0 0 0 0 5 0 0 0 0 0]\n",
      " [0 0 0 0 0 4 0 0 0 0]\n",
      " [0 0 0 0 0 0 3 0 0 0]\n",
      " [0 0 0 0 0 0 0 2 0 0]\n",
      " [0 0 0 0 0 0 0 0 1 0]\n",
      " [0 0 0 0 0 0 0 0 0 0]]\n",
      "Сумма по диагонали: 45\n"
     ]
    }
   ],
   "source": [
    "z = int(input('Введите число: '))\n",
    "print(np.diag(np.arange(z-1, -1, -1), k=0))\n",
    "print('Сумма по диагонали:', sum(sum(np.diag(np.arange(z-1, -1, -1), k=0))))\n"
   ]
  },
  {
   "cell_type": "markdown",
   "metadata": {},
   "source": [
    "Задание 3\n",
    "Решите систему уравнений:\n",
    "\n",
    "4x + 2y + z = 4\n",
    "x + 3y = 12\n",
    "5y + 4z = -3"
   ]
  },
  {
   "cell_type": "code",
   "execution_count": 76,
   "metadata": {},
   "outputs": [
    {
     "data": {
      "text/plain": [
       "array([ 0.46666667,  3.84444444, -5.55555556])"
      ]
     },
     "execution_count": 76,
     "metadata": {},
     "output_type": "execute_result"
    }
   ],
   "source": [
    "from numpy import linalg\n",
    "a = np.array( [ [4, 2, 1], [1, 3, 0], [0, 5, 4] ] )\n",
    "b = np.array( [4, 12, -3] )\n",
    "linalg.solve(a, b)"
   ]
  },
  {
   "cell_type": "markdown",
   "metadata": {},
   "source": [
    "\n",
    "Задача 4 домашнего задания\n",
    "Имеется матрица покупок в интернет-магазине. \n",
    "Столбец А - ID пользователя. Остальные столбцы - количество покупок категорий товаров этим пользователем:"
   ]
  },
  {
   "cell_type": "code",
   "execution_count": 89,
   "metadata": {},
   "outputs": [],
   "source": [
    "users_stats = np.array(\n",
    "    [\n",
    "        [2, 1, 0, 0, 0, 0],\n",
    "        [1, 1, 2, 1, 0, 0],\n",
    "        [2, 0, 1, 0, 0, 0],\n",
    "        [1, 1, 2, 1, 0, 1],\n",
    "        [0, 0, 1, 2, 0, 0],\n",
    "        [0, 0, 0, 0, 0, 5],\n",
    "        [1, 0, 0, 0, 0, 0],\n",
    "        [0, 1, 1, 0, 0, 0],\n",
    "        [0, 0, 0, 1, 1, 3],\n",
    "        [1, 0, 0, 2, 1, 4]\n",
    "    ], \n",
    "    np.int32\n",
    ")"
   ]
  },
  {
   "cell_type": "markdown",
   "metadata": {},
   "source": [
    "На сайт заходит очередной посетитель, о покупках которого известно следующее:"
   ]
  },
  {
   "cell_type": "code",
   "execution_count": null,
   "metadata": {},
   "outputs": [],
   "source": [
    "next_user_stats = np.array([0, 1, 2, 0, 0, 0])"
   ]
  },
  {
   "cell_type": "markdown",
   "metadata": {},
   "source": [
    "Найдите самого похожего пользователя. \n",
    "Т. е. посчитайте косинусное расстояние между этим пользователем и \n",
    "всеми пользователями из массива user_stats"
   ]
  },
  {
   "cell_type": "code",
   "execution_count": 90,
   "metadata": {},
   "outputs": [
    {
     "name": "stdout",
     "output_type": "stream",
     "text": [
      "1 0.19999999999999996\n",
      "2 0.8451542547285165\n",
      "3 0.3999999999999999\n",
      "4 0.7905694150420948\n",
      "5 0.3999999999999999\n",
      "6 0.0\n",
      "7 0.0\n",
      "8 0.9486832980505138\n",
      "9 0.0\n",
      "10 0.0\n",
      "Максимально похожий пользователь c ID: 8\n"
     ]
    }
   ],
   "source": [
    "def cosine( a, b ):\n",
    "    \"\"\"\n",
    "    Подсчет косинуса угла между векторами a, b по их координатам\n",
    "    \"\"\"\n",
    "    \n",
    "    # длины векторов\n",
    "    aLength = np.linalg.norm( a )\n",
    "    bLength = np.linalg.norm( b )\n",
    "    \n",
    "    return np.dot( a, b ) / ( aLength * bLength )\n",
    "\n",
    "max_cosine = 0\n",
    "for i, user in enumerate(users_stats):\n",
    "    print(i+1, cosine(user, next_user_stats))\n",
    "    if cosine(user, next_user_stats) > max_cosine:\n",
    "        max_cosine = cosine(user, next_user_stats)\n",
    "        max_id = i +1\n",
    "print('Максимально похожий пользователь c ID:', max_id)"
   ]
  }
 ],
 "metadata": {
  "kernelspec": {
   "display_name": "Python 3",
   "language": "python",
   "name": "python3"
  },
  "language_info": {
   "codemirror_mode": {
    "name": "ipython",
    "version": 3
   },
   "file_extension": ".py",
   "mimetype": "text/x-python",
   "name": "python",
   "nbconvert_exporter": "python",
   "pygments_lexer": "ipython3",
   "version": "3.7.4"
  }
 },
 "nbformat": 4,
 "nbformat_minor": 2
}
