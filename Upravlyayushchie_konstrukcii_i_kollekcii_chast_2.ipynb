{
 "cells": [
  {
   "cell_type": "code",
   "execution_count": 1,
   "metadata": {},
   "outputs": [
    {
     "name": "stdout",
     "output_type": "stream",
     "text": [
      "Результат: {98, 35, 15, 213, 54, 119}\n"
     ]
    }
   ],
   "source": [
    "#«Управляющие конструкции и коллекции» часть 2. ДЗ №1\n",
    "ids = {'user1': [213, 213, 213, 15, 213],\n",
    "'user2': [54, 54, 119, 119, 119],\n",
    "'user3': [213, 98, 98, 35]}\n",
    "x = set(sum(ids.values(), []))\n",
    "print('Результат:',x)"
   ]
  },
  {
   "cell_type": "code",
   "execution_count": 1,
   "metadata": {},
   "outputs": [
    {
     "name": "stdout",
     "output_type": "stream",
     "text": [
      "Поисковых запросов, содержащих 3 слов(а):57.14%\n",
      "Поисковых запросов, содержащих 2 слов(а):42.86%\n"
     ]
    }
   ],
   "source": [
    "#«Управляющие конструкции и коллекции» часть 2. ДЗ №2\n",
    "queries = ['смотреть сериалы онлайн','новости спорта','афиша кино','курс доллара','сериалы этим летом','курс по питону','сериалы про спорт',]\n",
    "sum_el_queries = len(queries)\n",
    "slovar={}\n",
    "for i in queries:\n",
    "    znach = (len(i.split(\" \"))) #считает количество слов\n",
    "    if znach in slovar.keys(): #проверяет есть ли значение в ключах словаря\n",
    "        value=slovar[znach] #есть, получаем значение ключа\n",
    "        value += 1 #увеличиваем значение на 1, т.к. есть еще одно сходство\n",
    "        slovar[znach]= value   #записываем колво в словарь\n",
    "    else:\n",
    "        slovar[znach]=1 #если нет, создаем ключ со значением 1\n",
    "for kluch, znach in slovar.items():\n",
    "    print(f'Поисковых запросов, содержащих {kluch} слов(а):{round((slovar[kluch]/sum_el_queries)*100,2)}%')"
   ]
  },
  {
   "cell_type": "code",
   "execution_count": 3,
   "metadata": {},
   "outputs": [
    {
     "name": "stdout",
     "output_type": "stream",
     "text": [
      "{'vk': {'revenue': 103, 'cost': 98, 'roi': 5.1}, 'yandex': {'revenue': 179, 'cost': 153, 'roi': 16.99}, 'facebook': {'revenue': 103, 'cost': 110, 'roi': -6.36}, 'adwords': {'revenue': 35, 'cost': 34, 'roi': 2.94}, 'twitter': {'revenue': 11, 'cost': 24, 'roi': -54.17}}\n"
     ]
    }
   ],
   "source": [
    "\n",
    "#«Управляющие конструкции и коллекции» часть 2. ДЗ №3\n",
    "results = {\n",
    "'vk': {'revenue': 103, 'cost': 98},\n",
    "'yandex': {'revenue': 179, 'cost': 153},\n",
    "'facebook': {'revenue': 103, 'cost': 110},\n",
    "'adwords': {'revenue': 35, 'cost': 34},\n",
    "'twitter': {'revenue': 11, 'cost': 24},\n",
    "}\n",
    "for i in results:\n",
    "    roi = (results[i]['revenue'] / results[i]['cost'] - 1) * 100\n",
    "    results[i]['roi'] = round(roi, 2)\n",
    "print(results)"
   ]
  },
  {
   "cell_type": "code",
   "execution_count": 4,
   "metadata": {},
   "outputs": [
    {
     "name": "stdout",
     "output_type": "stream",
     "text": [
      "Максимальный объем продаж на рекламном канале: vk\n"
     ]
    }
   ],
   "source": [
    "#«Управляющие конструкции и коллекции» часть 2. ДЗ №4\n",
    "stats = {'facebook': 55, 'yandex': 115, 'vk': 120, 'google': 99, 'email': 42, 'ok': 98}\n",
    "maks = max(stats.values())\n",
    "for k,l in stats.items():\n",
    "    if l == maks:\n",
    "        print(\"Максимальный объем продаж на рекламном канале:\",k)"
   ]
  }
 ],
 "metadata": {
  "kernelspec": {
   "display_name": "Python 3",
   "language": "python",
   "name": "python3"
  },
  "language_info": {
   "codemirror_mode": {
    "name": "ipython",
    "version": 3
   },
   "file_extension": ".py",
   "mimetype": "text/x-python",
   "name": "python",
   "nbconvert_exporter": "python",
   "pygments_lexer": "ipython3",
   "version": "3.7.4"
  }
 },
 "nbformat": 4,
 "nbformat_minor": 2
}
