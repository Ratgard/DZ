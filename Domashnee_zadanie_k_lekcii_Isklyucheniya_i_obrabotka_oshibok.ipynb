{
 "cells": [
  {
   "cell_type": "code",
   "execution_count": 1,
   "metadata": {},
   "outputs": [
    {
     "name": "stdout",
     "output_type": "stream",
     "text": [
      "Wednesday: 2002-10-02\n",
      "Friday: 2013-10-11\n",
      "Thursday: 1977-08-18\n"
     ]
    }
   ],
   "source": [
    "#Домашнее задание к лекции «Исключения и обработка ошибок»\n",
    "#ДЗ 1:\n",
    "The_Moscow_Times = 'Wednesday, October 2, 2002'\n",
    "The_Guardian = 'Friday, 11.10.13'\n",
    "Daily_News = 'Thursday, 18 August 1977'\n",
    "\n",
    "from datetime import datetime\n",
    "news_1 = datetime.strptime(The_Moscow_Times, '%A, %B %d, %Y')\n",
    "news_2 = datetime.strptime(The_Guardian, '%A, %d.%m.%y')\n",
    "news_3 = datetime.strptime(Daily_News, '%A, %d %B %Y')\n",
    "#print('\\n',news_1,'\\n',news_2,'\\n',news_3)\n",
    "news = (news_1, news_2, news_3)\n",
    "for i in news:\n",
    "    j=i.strftime('%A: %Y-%m-%d')\n",
    "    print(j)"
   ]
  },
  {
   "cell_type": "code",
   "execution_count": 2,
   "metadata": {},
   "outputs": [
    {
     "name": "stdout",
     "output_type": "stream",
     "text": [
      "дата корректна\n",
      "некорректная дата\n",
      "некорректная дата\n"
     ]
    }
   ],
   "source": [
    "#Домашнее задание к лекции «Исключения и обработка ошибок»\n",
    "#ДЗ 2:\n",
    "stream = ['2018-04-02', '2018-02-29', '2018-19-02']\n",
    "\n",
    "from datetime import datetime\n",
    "\n",
    "def validate (x):\n",
    "    try:\n",
    "        stream_date = datetime.strptime(x, '%Y-%m-%d')\n",
    "        print('дата корректна')\n",
    "        return True\n",
    "    except:\n",
    "        print('некорректная дата')\n",
    "        return False\n",
    "\n",
    "\n",
    "for element_stream in stream:\n",
    "    validate(element_stream)"
   ]
  },
  {
   "cell_type": "code",
   "execution_count": 4,
   "metadata": {},
   "outputs": [
    {
     "name": "stdout",
     "output_type": "stream",
     "text": [
      "['1993-04-15', '1993-04-16', '1993-04-17', '1993-04-18', '1993-04-19', '1993-04-20', '1993-04-21', '1993-04-22', '1993-04-23', '1993-04-24', '1993-04-25']\n"
     ]
    }
   ],
   "source": [
    "#Домашнее задание к лекции «Исключения и обработка ошибок»\n",
    "#ДЗ 3:\n",
    "from datetime import datetime\n",
    "from datetime import timedelta\n",
    "\n",
    "start_date = '1993-04-15'\n",
    "end_date = '1993-04-25'\n",
    "start_date_dt = datetime.strptime(start_date, '%Y-%m-%d')\n",
    "end_date_dt = datetime.strptime(end_date, '%Y-%m-%d')\n",
    "\n",
    "def date_range (x):\n",
    "    dubl_start_date = x\n",
    "    date_list =[]\n",
    "    try:\n",
    "        while dubl_start_date <= end_date_dt:\n",
    "            start_f_time = dubl_start_date.strftime('%Y-%m-%d')\n",
    "            date_list.append(start_f_time)\n",
    "            dubl_start_date += timedelta(days=1)\n",
    "        print(date_list)\n",
    "    except:\n",
    "        print(date_list)\n",
    "    \n",
    "date_range(start_date_dt)"
   ]
  }
 ],
 "metadata": {
  "kernelspec": {
   "display_name": "Python 3",
   "language": "python",
   "name": "python3"
  },
  "language_info": {
   "codemirror_mode": {
    "name": "ipython",
    "version": 3
   },
   "file_extension": ".py",
   "mimetype": "text/x-python",
   "name": "python",
   "nbconvert_exporter": "python",
   "pygments_lexer": "ipython3",
   "version": "3.7.4"
  }
 },
 "nbformat": 4,
 "nbformat_minor": 2
}
