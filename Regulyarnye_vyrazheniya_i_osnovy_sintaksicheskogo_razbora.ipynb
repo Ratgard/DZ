{
 "cells": [
  {
   "cell_type": "markdown",
   "metadata": {},
   "source": [
    "Задание 1\n",
    "Напишите функцию, которая принимает на вход строку и проверяет является ли она валидным транспортным номером (1 буква, 3 цифры, 2 буквы, 2-3 цифры). Обратите внимание, что не все буквы кириллического алфавита используются в транспортных номерах.\n",
    "\n",
    "Если номер валиден, то функция должна возвращать отдельно номер и регион.\n",
    "\n",
    "Примеры работы программы:\n",
    "\n",
    "car_id = 'АВ222С96’\n",
    "Результат: Номер АВ222С валиден. Регион: 96\n",
    "\n",
    "car_id = 'АБ22ВВ193’\n",
    "Результат: Номер не валиден"
   ]
  },
  {
   "cell_type": "code",
   "execution_count": 63,
   "metadata": {},
   "outputs": [
    {
     "name": "stdout",
     "output_type": "stream",
     "text": [
      "Введите номер машины\n",
      "АВ222С96\n",
      "Номер АВ222С валиден. Регион: 96\n"
     ]
    }
   ],
   "source": [
    "import re\n",
    "car_id = str(input('Введите номер машины\\n'))\n",
    "\n",
    "def validate_number (number):\n",
    "    number_ = re.findall(r'\\w{2}\\d{3}\\w{1}\\d{2,3}', number)\n",
    "    \n",
    "    if number_ == list():\n",
    "        return print('Некореектный номер')\n",
    "    else:\n",
    "        num = re.findall(r'\\w{2}\\d{3}\\w{1}', number)[0]\n",
    "        reg = re.findall(r'\\d{2,3}', number)[1]\n",
    "        print('Номер {} валиден. Регион: {}'.format(num, reg))\n",
    "validate_number(car_id)"
   ]
  },
  {
   "cell_type": "markdown",
   "metadata": {},
   "source": [
    "Задание 2\n",
    "Напишите функцию, которая будет удалять все последовательные повторы слов из заданной строки при помощи регулярных выражений.\n",
    "\n",
    "Пример работы программы:\n",
    "\n",
    "some_string = ‘Напишите функцию функцию, которая будет будет будет будет удалять все все все все последовательные повторы слов из из из из заданной строки строки при помощи регулярных выражений’\n",
    "\n",
    "Результат: Напишите функцию, которая будет удалять все последовательные повторы слов из заданной строки при помощи регулярных выражений."
   ]
  },
  {
   "cell_type": "code",
   "execution_count": 38,
   "metadata": {},
   "outputs": [
    {
     "name": "stdout",
     "output_type": "stream",
     "text": [
      "Напишите функцию, которая будет удалять все последовательные повторы слов из заданой строки при помощи регулярных выражений\n"
     ]
    }
   ],
   "source": [
    "import re\n",
    "some_string = 'Напишите функцию функцию, которая будет будет будет будет удалять все все все все последовательные повторы слов из из из из заданной строки строки при помощи регулярных выражений'\n",
    "\n",
    "def text (origin):\n",
    "    no_dubl = re.sub(r'(\\w+)(\\s*\\1)+', r'\\1', some_string)\n",
    "    return print(no_dubl)\n",
    "\n",
    "text(some_string)\n"
   ]
  },
  {
   "cell_type": "markdown",
   "metadata": {},
   "source": [
    "Задание 3\n",
    "Напишите функцию, которая будет возвращать акроним по переданной в нее строке со словами."
   ]
  },
  {
   "cell_type": "code",
   "execution_count": 37,
   "metadata": {},
   "outputs": [
    {
     "name": "stdout",
     "output_type": "stream",
     "text": [
      "NFC\n"
     ]
    }
   ],
   "source": [
    "import re\n",
    "some_words = 'Near Field Communication'\n",
    "\n",
    "def akronim (some_words_2):\n",
    "    \n",
    "    some_words_2 = re.findall(r'[А-ЯЁ|A-Z]', some_words)\n",
    "    return print(\"\".join(some_words_2))\n",
    "\n",
    "akronim(some_words)"
   ]
  },
  {
   "cell_type": "markdown",
   "metadata": {},
   "source": [
    "Задание 4\n",
    "Напишите функцию, которая будет принимать на вход список email-адресов и выводить их распределение по доменным зонам.\n",
    "\n",
    "Пример работы программы:\n",
    "\n",
    "emails = ['test@gmail.com', 'xyz@test.in', 'test@ya.ru', 'xyz@mail.ru', 'xyz@ya.ru', 'xyz@gmail.com']\n",
    "\n",
    "Результат:\n",
    "\n",
    "gmail.com: 2\n",
    "test.in: 1\n",
    "ya.ru: 2\n",
    "mail.ru: 1"
   ]
  },
  {
   "cell_type": "code",
   "execution_count": 91,
   "metadata": {},
   "outputs": [
    {
     "name": "stdout",
     "output_type": "stream",
     "text": [
      "gmail.com: 2\n",
      "test.in: 1\n",
      "ya.ru: 2\n",
      "mail.ru: 1\n"
     ]
    }
   ],
   "source": [
    "import re\n",
    "emails = ['test@gmail.com', 'xyz@test.in', 'test@ya.ru', 'xyz@mail.ru', 'xyz@ya.ru', 'xyz@gmail.com']\n",
    "\n",
    "def counting (*args):\n",
    "    dict_ = {}\n",
    "    for k in emails:\n",
    "        mail = re.findall(r'(?<=@)\\w+\\.\\w{2,3}', k)\n",
    "        mail_2 = re.findall(r'(?<=@)\\w+', k)\n",
    "        mail_str = \"\".join(mail)\n",
    "        if mail_str in dict_.keys():\n",
    "            dict_[mail_str] += 1\n",
    "        else:\n",
    "            dict_[mail_str] = 1\n",
    "\n",
    "    for k,v in dict_.items():\n",
    "        print(k,': ', v, sep=\"\")\n",
    "\n",
    "counting(emails)"
   ]
  }
 ],
 "metadata": {
  "kernelspec": {
   "display_name": "Python 3",
   "language": "python",
   "name": "python3"
  },
  "language_info": {
   "codemirror_mode": {
    "name": "ipython",
    "version": 3
   },
   "file_extension": ".py",
   "mimetype": "text/x-python",
   "name": "python",
   "nbconvert_exporter": "python",
   "pygments_lexer": "ipython3",
   "version": "3.7.4"
  }
 },
 "nbformat": 4,
 "nbformat_minor": 2
}
